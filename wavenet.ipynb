{
 "cells": [
  {
   "cell_type": "code",
   "execution_count": 2,
   "metadata": {},
   "outputs": [],
   "source": [
    "import pandas as pd\n",
    "import numpy as np"
   ]
  },
  {
   "cell_type": "code",
   "execution_count": 3,
   "metadata": {},
   "outputs": [],
   "source": [
    "df = pd.read_csv('GSPC_2015_2020.csv')"
   ]
  },
  {
   "cell_type": "code",
   "execution_count": 7,
   "metadata": {},
   "outputs": [
    {
     "data": {
      "text/plain": [
       "Date\n",
       "2015-08-24    1893.209961\n",
       "2015-08-25    1867.609985\n",
       "2015-08-26    1940.510010\n",
       "2015-08-27    1987.660034\n",
       "2015-08-28    1988.869995\n",
       "                 ...     \n",
       "2020-08-17    3381.989990\n",
       "2020-08-18    3389.780029\n",
       "2020-08-19    3374.850098\n",
       "2020-08-20    3385.510010\n",
       "2020-08-21    3397.159912\n",
       "Name: Adj Close, Length: 1259, dtype: float64"
      ]
     },
     "execution_count": 7,
     "metadata": {},
     "output_type": "execute_result"
    }
   ],
   "source": [
    "spx = df.set_index('Date')['Adj Close']\n",
    "spx"
   ]
  },
  {
   "cell_type": "code",
   "execution_count": 38,
   "metadata": {},
   "outputs": [
    {
     "data": {
      "text/plain": [
       "(128, 30)"
      ]
     },
     "execution_count": 38,
     "metadata": {},
     "output_type": "execute_result"
    }
   ],
   "source": [
    "from tensorflow.keras.preprocessing.sequence import TimeseriesGenerator\n",
    "data_gen_df = spx/1000\n",
    "data_gen = TimeseriesGenerator(data_gen_df.values, data_gen_df.diff().fillna(0), length=30)\n",
    "data_gen[0][0].shape"
   ]
  },
  {
   "cell_type": "code",
   "execution_count": 39,
   "metadata": {},
   "outputs": [],
   "source": [
    "# https://github.com/usernaamee/keras-wavenet/blob/master/simple-generative-model.py"
   ]
  },
  {
   "cell_type": "code",
   "execution_count": 40,
   "metadata": {},
   "outputs": [],
   "source": [
    "from tensorflow.keras.layers import Convolution1D, Convolution2D, Flatten, Dense, \\\n",
    "    Input, Lambda, Activation, BatchNormalization\n",
    "from tensorflow import keras\n",
    "import tensorflow\n",
    "\n",
    "def WaveNetBlock(filters, kernel_size, dilation_rate, activation=None):\n",
    "    def f(input_):\n",
    "        residual = input_\n",
    "        tanh_out = Convolution1D(filters, kernel_size,\n",
    "                                       dilation_rate=dilation_rate,\n",
    "                                       padding='same',\n",
    "                                       activation='tanh')(input_)\n",
    "        sigmoid_out = Convolution1D(filters, kernel_size,\n",
    "                                          dilation_rate=dilation_rate,\n",
    "                                          padding='same',\n",
    "                                          activation='sigmoid')(input_)\n",
    "        merged = keras.layers.Multiply()([tanh_out, sigmoid_out])\n",
    "        skip_out = Convolution1D(1, 1, activation=activation, padding='same')(merged)\n",
    "        out = keras.layers.Add()([skip_out, residual])\n",
    "#         return out, skip_out\n",
    "        return skip_out\n",
    "    return f"
   ]
  },
  {
   "cell_type": "code",
   "execution_count": 41,
   "metadata": {},
   "outputs": [
    {
     "name": "stdout",
     "output_type": "stream",
     "text": [
      "Epoch 1/12\n",
      "10/10 [==============================] - 0s 18ms/step - loss: 0.0010\n",
      "Epoch 2/12\n",
      "10/10 [==============================] - 0s 19ms/step - loss: 0.0010\n",
      "Epoch 3/12\n",
      "10/10 [==============================] - 0s 17ms/step - loss: 0.0010\n",
      "Epoch 4/12\n",
      "10/10 [==============================] - 0s 16ms/step - loss: 0.0010\n",
      "Epoch 5/12\n",
      "10/10 [==============================] - 0s 14ms/step - loss: 0.0010\n",
      "Epoch 6/12\n",
      "10/10 [==============================] - 0s 15ms/step - loss: 0.0010\n",
      "Epoch 7/12\n",
      "10/10 [==============================] - 0s 15ms/step - loss: 0.0010\n",
      "Epoch 8/12\n",
      "10/10 [==============================] - 0s 14ms/step - loss: 0.0010\n",
      "Epoch 9/12\n",
      "10/10 [==============================] - 0s 13ms/step - loss: 0.0010\n",
      "Epoch 10/12\n",
      "10/10 [==============================] - 0s 13ms/step - loss: 0.0010\n",
      "Epoch 11/12\n",
      "10/10 [==============================] - 0s 12ms/step - loss: 0.0010\n",
      "Epoch 12/12\n",
      "10/10 [==============================] - 0s 12ms/step - loss: 0.0010\n"
     ]
    },
    {
     "data": {
      "text/plain": [
       "<tensorflow.python.keras.callbacks.History at 0x1c2854b7a08>"
      ]
     },
     "execution_count": 41,
     "metadata": {},
     "output_type": "execute_result"
    }
   ],
   "source": [
    "x = i = Input(shape=(30, 1))\n",
    "x = BatchNormalization()(x)\n",
    "x = WaveNetBlock(filters=8, kernel_size=32, dilation_rate=1, activation='relu')(x)\n",
    "x = WaveNetBlock(filters=4, kernel_size=4, dilation_rate=2, activation='relu')(x)\n",
    "x = WaveNetBlock(filters=2, kernel_size=4, dilation_rate=4, activation='relu')(x)\n",
    "# x = WaveNetBlock(filters=1, kernel_size=4, dilation_rate=4, activation='relu')(x)\n",
    "x = Flatten()(x)\n",
    "x = Dense(2, activation='relu')(x)\n",
    "x = Dense(1, activation='relu')(x)\n",
    "\n",
    "model = keras.Model(i, x)\n",
    "model.compile(optimizer=tensorflow.keras.optimizers.Adam(10), loss='mse')\n",
    "model.fit(data_gen, epochs=12)"
   ]
  },
  {
   "cell_type": "code",
   "execution_count": 42,
   "metadata": {},
   "outputs": [
    {
     "data": {
      "text/plain": [
       "array([[0.],\n",
       "       [0.],\n",
       "       [0.],\n",
       "       ...,\n",
       "       [0.],\n",
       "       [0.],\n",
       "       [0.]], dtype=float32)"
      ]
     },
     "execution_count": 42,
     "metadata": {},
     "output_type": "execute_result"
    }
   ],
   "source": [
    "model.predict(data_gen)"
   ]
  },
  {
   "cell_type": "code",
   "execution_count": null,
   "metadata": {},
   "outputs": [],
   "source": [
    "data_gen_df['close'].diff().sum()"
   ]
  },
  {
   "cell_type": "code",
   "execution_count": 36,
   "metadata": {},
   "outputs": [
    {
     "data": {
      "text/plain": [
       "[LogicalDevice(name='/device:CPU:0', device_type='CPU'),\n",
       " LogicalDevice(name='/device:XLA_CPU:0', device_type='XLA_CPU'),\n",
       " LogicalDevice(name='/device:GPU:0', device_type='GPU'),\n",
       " LogicalDevice(name='/device:XLA_GPU:0', device_type='XLA_GPU')]"
      ]
     },
     "execution_count": 36,
     "metadata": {},
     "output_type": "execute_result"
    }
   ],
   "source": [
    "import tensorflow as tf\n",
    "tf.config.experimental.list_logical_devices()"
   ]
  },
  {
   "cell_type": "code",
   "execution_count": 1,
   "metadata": {},
   "outputs": [
    {
     "data": {
      "text/plain": [
       "0"
      ]
     },
     "execution_count": 1,
     "metadata": {},
     "output_type": "execute_result"
    }
   ],
   "source": [
    "0"
   ]
  }
 ],
 "metadata": {
  "kernelspec": {
   "display_name": "Python 3",
   "language": "python",
   "name": "python3"
  },
  "language_info": {
   "codemirror_mode": {
    "name": "ipython",
    "version": 3
   },
   "file_extension": ".py",
   "mimetype": "text/x-python",
   "name": "python",
   "nbconvert_exporter": "python",
   "pygments_lexer": "ipython3",
   "version": "3.7.6"
  }
 },
 "nbformat": 4,
 "nbformat_minor": 2
}
